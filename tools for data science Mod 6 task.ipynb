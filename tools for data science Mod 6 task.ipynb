{
  "cells": [
    {
      "cell_type": "markdown",
      "metadata": {
        "id": "view-in-github",
        "colab_type": "text"
      },
      "source": [
        "<a href=\"https://colab.research.google.com/github/esteban-gutierrez-sb/Coursera_sb/blob/main/tools%20for%20data%20science%20Mod%206%20task.ipynb\" target=\"_parent\"><img src=\"https://colab.research.google.com/assets/colab-badge.svg\" alt=\"Open In Colab\"/></a>"
      ]
    },
    {
      "cell_type": "markdown",
      "metadata": {
        "id": "9c5e64dc-2bc7-4640-9b71-877eda7b6100"
      },
      "source": [
        "<center>\n",
        "    <img src=\"https://cf-courses-data.s3.us.cloud-object-storage.appdomain.cloud/IBMDeveloperSkillsNetwork-DS0105EN-SkillsNetwork/labs/Module2/images/SN_web_lightmode.png\" width=\"300\" alt=\"cognitiveclass.ai logo\">\n",
        "</center>\n"
      ]
    },
    {
      "cell_type": "markdown",
      "metadata": {
        "id": "bca0d27a-24c6-4c43-b116-c73c8d9ab219"
      },
      "source": [
        "# Hands-on Lab: Create your Jupyter Notebook\n"
      ]
    },
    {
      "cell_type": "markdown",
      "metadata": {
        "id": "8b126e2f-912e-42e0-8d57-43862ac465fc"
      },
      "source": [
        "#### Add your code below following the instructions given in the course\n"
      ]
    },
    {
      "cell_type": "markdown",
      "source": [
        "#Ex.2 Module 6: final project"
      ],
      "metadata": {
        "id": "2W4ccPFeO_IT"
      }
    },
    {
      "cell_type": "markdown",
      "source": [
        "Ex.3 This notebook is created as part of the \"tools for data science\" coursera course"
      ],
      "metadata": {
        "id": "tJN32kM7PJPZ"
      }
    },
    {
      "cell_type": "markdown",
      "source": [
        "Ex.4\n",
        "The course mentioned several programing languages, including:\n",
        "\n",
        "\n",
        "1.   Python\n",
        "2.   R\n",
        "3.   Julia\n",
        "4.   Java\n",
        "\n"
      ],
      "metadata": {
        "id": "x3DCg7xaQ07S"
      }
    },
    {
      "cell_type": "markdown",
      "source": [
        "Ex.5 Some Data libraries include\n",
        "\n",
        "1.   Numpy\n",
        "2.   Pandas\n",
        "3.   ScikitLearn\n",
        "\n"
      ],
      "metadata": {
        "id": "XgdSzMgnRO5U"
      }
    },
    {
      "cell_type": "markdown",
      "source": [
        "Ex.6 Some data science tools include\n",
        "\n",
        "1.   Jupyter Notebooks\n",
        "2.   Git/github repositories\n",
        "3.   Visual editors\n"
      ],
      "metadata": {
        "id": "LPby_yAdRZ1o"
      }
    },
    {
      "cell_type": "markdown",
      "source": [
        "Ex.7 Aritmetic expresions are mathematical expresions such as\n",
        "3*(9+6)"
      ],
      "metadata": {
        "id": "wNvXzuGzRuBv"
      }
    },
    {
      "cell_type": "code",
      "metadata": {
        "colab": {
          "base_uri": "https://localhost:8080/"
        },
        "id": "e7ba372f-335a-4836-943b-f9cf0fa309b0",
        "outputId": "6835c8bc-9909-4ccc-945b-2b9e5166e269"
      },
      "outputs": [
        {
          "output_type": "execute_result",
          "data": {
            "text/plain": [
              "45"
            ]
          },
          "metadata": {},
          "execution_count": 1
        }
      ],
      "source": [
        "# Ex.8\n",
        "3*(9+6)"
      ],
      "execution_count": 1
    },
    {
      "cell_type": "code",
      "source": [
        "# Ex. 9\n",
        "minutes = 120\n",
        "hours = minutes/60\n",
        "print(hours)"
      ],
      "metadata": {
        "id": "cZt_pN6SSK37"
      },
      "execution_count": null,
      "outputs": []
    },
    {
      "cell_type": "code",
      "source": [
        "#Ex. 10\n",
        "objectives = [\"Obj. 1\",\"Obj. 2\",\"Obj. 3\",\"Obj. 4\",\"Obj. 5\"]\n",
        "objectives"
      ],
      "metadata": {
        "colab": {
          "base_uri": "https://localhost:8080/"
        },
        "id": "mhRrpaH8SRdc",
        "outputId": "fc939c10-0504-422e-bfb4-6714966ef204"
      },
      "execution_count": 2,
      "outputs": [
        {
          "output_type": "execute_result",
          "data": {
            "text/plain": [
              "['Obj. 1', 'Obj. 2', 'Obj. 3', 'Obj. 4', 'Obj. 5']"
            ]
          },
          "metadata": {},
          "execution_count": 2
        }
      ]
    },
    {
      "cell_type": "markdown",
      "source": [
        "Ex. 11 Author Esteban Gutiérrez"
      ],
      "metadata": {
        "id": "HO-bj-sJSetZ"
      }
    },
    {
      "cell_type": "markdown",
      "metadata": {
        "id": "b5f467ed-efe7-45ac-a08b-b2d48c26ba81"
      },
      "source": [
        "Copyright ©2024 IBM Corporation. All rights reserved.\n"
      ]
    }
  ],
  "metadata": {
    "kernelspec": {
      "display_name": "Python",
      "language": "python",
      "name": "conda-env-python-py"
    },
    "language_info": {
      "name": "python",
      "version": "3.7.12",
      "mimetype": "text/x-python",
      "codemirror_mode": {
        "name": "ipython",
        "version": 3
      },
      "pygments_lexer": "ipython3",
      "nbconvert_exporter": "python",
      "file_extension": ".py"
    },
    "prev_pub_hash": "9e1985db9844176462bd1d5863048c9f3d17404bbc6a648be9084b0c42b29347",
    "colab": {
      "provenance": [],
      "include_colab_link": true
    }
  },
  "nbformat": 4,
  "nbformat_minor": 0
}